{
 "cells": [
  {
   "cell_type": "code",
   "execution_count": 5,
   "metadata": {},
   "outputs": [],
   "source": [
    "import pandas as pd\n",
    "from sklearn.model_selection import train_test_split\n",
    "from sklearn.datasets import load_digits\n",
    "from sklearn.svm import SVC\n",
    "from sklearn.model_selection import cross_val_score"
   ]
  },
  {
   "cell_type": "code",
   "execution_count": 2,
   "metadata": {},
   "outputs": [],
   "source": [
    "df = load_digits()"
   ]
  },
  {
   "cell_type": "code",
   "execution_count": 4,
   "metadata": {},
   "outputs": [],
   "source": [
    "x_train,x_test,y_train,y_test = train_test_split(df.data,df.target,test_size=0.2)"
   ]
  },
  {
   "cell_type": "code",
   "execution_count": 11,
   "metadata": {},
   "outputs": [
    {
     "data": {
      "text/plain": [
       "{'rbf , C:1': 0.9902535811072397,\n",
       " 'rbf , C:10': 0.9916473093302361,\n",
       " 'rbf , C:20': 0.9916473093302361,\n",
       " 'linear , C:1': 0.9826050135501354,\n",
       " 'linear , C:10': 0.9826050135501354,\n",
       " 'linear , C:20': 0.9826050135501354}"
      ]
     },
     "execution_count": 11,
     "metadata": {},
     "output_type": "execute_result"
    }
   ],
   "source": [
    "import numpy as np\n",
    "\n",
    "kernal = ['rbf','linear']\n",
    "C = [1,10,20]\n",
    "avg_scores= {}\n",
    "\n",
    "for k in kernal:\n",
    "    for c in C:\n",
    "        cvs = cross_val_score(SVC(C=c,kernel=k),x_train,y_train,cv=5)\n",
    "        avg_scores[k+' , C:'+str(c)] = np.average(cvs)\n",
    "\n",
    "avg_scores"
   ]
  },
  {
   "cell_type": "code",
   "execution_count": 13,
   "metadata": {},
   "outputs": [
    {
     "data": {
      "text/plain": [
       "{'mean_fit_time': array([0.12061677, 0.01760416, 0.12715054, 0.01595793, 0.13100309,\n",
       "        0.01501803]),\n",
       " 'std_fit_time': array([6.18712832e-03, 3.22083761e-03, 1.62994262e-03, 2.76292469e-05,\n",
       "        7.71633124e-03, 1.96664722e-03]),\n",
       " 'mean_score_time': array([0.03785086, 0.00640597, 0.03677769, 0.00482302, 0.03995891,\n",
       "        0.00479684]),\n",
       " 'std_score_time': array([5.73041283e-03, 3.20325204e-03, 3.91690404e-03, 3.93801234e-03,\n",
       "        7.77717458e-05, 3.91660473e-03]),\n",
       " 'param_C': masked_array(data=[1, 1, 10, 10, 20, 20],\n",
       "              mask=[False, False, False, False, False, False],\n",
       "        fill_value='?',\n",
       "             dtype=object),\n",
       " 'param_kernel': masked_array(data=['rbf', 'linear', 'rbf', 'linear', 'rbf', 'linear'],\n",
       "              mask=[False, False, False, False, False, False],\n",
       "        fill_value='?',\n",
       "             dtype=object),\n",
       " 'params': [{'C': 1, 'kernel': 'rbf'},\n",
       "  {'C': 1, 'kernel': 'linear'},\n",
       "  {'C': 10, 'kernel': 'rbf'},\n",
       "  {'C': 10, 'kernel': 'linear'},\n",
       "  {'C': 20, 'kernel': 'rbf'},\n",
       "  {'C': 20, 'kernel': 'linear'}],\n",
       " 'split0_test_score': array([0.47569444, 0.97916667, 0.53472222, 0.97916667, 0.53472222,\n",
       "        0.97916667]),\n",
       " 'split1_test_score': array([0.50347222, 0.98263889, 0.54166667, 0.98263889, 0.54166667,\n",
       "        0.98263889]),\n",
       " 'split2_test_score': array([0.52264808, 0.97560976, 0.56445993, 0.97560976, 0.56445993,\n",
       "        0.97560976]),\n",
       " 'split3_test_score': array([0.48432056, 0.99651568, 0.51567944, 0.99651568, 0.51567944,\n",
       "        0.99651568]),\n",
       " 'split4_test_score': array([0.49825784, 0.97909408, 0.56097561, 0.97909408, 0.56097561,\n",
       "        0.97909408]),\n",
       " 'mean_test_score': array([0.49687863, 0.98260501, 0.54350077, 0.98260501, 0.54350077,\n",
       "        0.98260501]),\n",
       " 'std_test_score': array([0.01622293, 0.00730192, 0.01788357, 0.00730192, 0.01788357,\n",
       "        0.00730192]),\n",
       " 'rank_test_score': array([6, 1, 4, 1, 4, 1])}"
      ]
     },
     "execution_count": 13,
     "metadata": {},
     "output_type": "execute_result"
    }
   ],
   "source": [
    "from sklearn.model_selection import GridSearchCV\n",
    "\n",
    "clf = GridSearchCV(SVC(gamma='auto'),{\n",
    "    'C' : [1,10,20],\n",
    "    'kernel': ['rbf','linear']\n",
    "},cv=5,return_train_score= False)\n",
    "\n",
    "clf.fit(x_train,y_train)\n",
    "clf.cv_results_"
   ]
  },
  {
   "cell_type": "code",
   "execution_count": 14,
   "metadata": {},
   "outputs": [
    {
     "data": {
      "text/html": [
       "<div>\n",
       "<style scoped>\n",
       "    .dataframe tbody tr th:only-of-type {\n",
       "        vertical-align: middle;\n",
       "    }\n",
       "\n",
       "    .dataframe tbody tr th {\n",
       "        vertical-align: top;\n",
       "    }\n",
       "\n",
       "    .dataframe thead th {\n",
       "        text-align: right;\n",
       "    }\n",
       "</style>\n",
       "<table border=\"1\" class=\"dataframe\">\n",
       "  <thead>\n",
       "    <tr style=\"text-align: right;\">\n",
       "      <th></th>\n",
       "      <th>mean_fit_time</th>\n",
       "      <th>std_fit_time</th>\n",
       "      <th>mean_score_time</th>\n",
       "      <th>std_score_time</th>\n",
       "      <th>param_C</th>\n",
       "      <th>param_kernel</th>\n",
       "      <th>params</th>\n",
       "      <th>split0_test_score</th>\n",
       "      <th>split1_test_score</th>\n",
       "      <th>split2_test_score</th>\n",
       "      <th>split3_test_score</th>\n",
       "      <th>split4_test_score</th>\n",
       "      <th>mean_test_score</th>\n",
       "      <th>std_test_score</th>\n",
       "      <th>rank_test_score</th>\n",
       "    </tr>\n",
       "  </thead>\n",
       "  <tbody>\n",
       "    <tr>\n",
       "      <th>0</th>\n",
       "      <td>0.120617</td>\n",
       "      <td>0.006187</td>\n",
       "      <td>0.037851</td>\n",
       "      <td>0.005730</td>\n",
       "      <td>1</td>\n",
       "      <td>rbf</td>\n",
       "      <td>{'C': 1, 'kernel': 'rbf'}</td>\n",
       "      <td>0.475694</td>\n",
       "      <td>0.503472</td>\n",
       "      <td>0.522648</td>\n",
       "      <td>0.484321</td>\n",
       "      <td>0.498258</td>\n",
       "      <td>0.496879</td>\n",
       "      <td>0.016223</td>\n",
       "      <td>6</td>\n",
       "    </tr>\n",
       "    <tr>\n",
       "      <th>1</th>\n",
       "      <td>0.017604</td>\n",
       "      <td>0.003221</td>\n",
       "      <td>0.006406</td>\n",
       "      <td>0.003203</td>\n",
       "      <td>1</td>\n",
       "      <td>linear</td>\n",
       "      <td>{'C': 1, 'kernel': 'linear'}</td>\n",
       "      <td>0.979167</td>\n",
       "      <td>0.982639</td>\n",
       "      <td>0.975610</td>\n",
       "      <td>0.996516</td>\n",
       "      <td>0.979094</td>\n",
       "      <td>0.982605</td>\n",
       "      <td>0.007302</td>\n",
       "      <td>1</td>\n",
       "    </tr>\n",
       "    <tr>\n",
       "      <th>2</th>\n",
       "      <td>0.127151</td>\n",
       "      <td>0.001630</td>\n",
       "      <td>0.036778</td>\n",
       "      <td>0.003917</td>\n",
       "      <td>10</td>\n",
       "      <td>rbf</td>\n",
       "      <td>{'C': 10, 'kernel': 'rbf'}</td>\n",
       "      <td>0.534722</td>\n",
       "      <td>0.541667</td>\n",
       "      <td>0.564460</td>\n",
       "      <td>0.515679</td>\n",
       "      <td>0.560976</td>\n",
       "      <td>0.543501</td>\n",
       "      <td>0.017884</td>\n",
       "      <td>4</td>\n",
       "    </tr>\n",
       "    <tr>\n",
       "      <th>3</th>\n",
       "      <td>0.015958</td>\n",
       "      <td>0.000028</td>\n",
       "      <td>0.004823</td>\n",
       "      <td>0.003938</td>\n",
       "      <td>10</td>\n",
       "      <td>linear</td>\n",
       "      <td>{'C': 10, 'kernel': 'linear'}</td>\n",
       "      <td>0.979167</td>\n",
       "      <td>0.982639</td>\n",
       "      <td>0.975610</td>\n",
       "      <td>0.996516</td>\n",
       "      <td>0.979094</td>\n",
       "      <td>0.982605</td>\n",
       "      <td>0.007302</td>\n",
       "      <td>1</td>\n",
       "    </tr>\n",
       "    <tr>\n",
       "      <th>4</th>\n",
       "      <td>0.131003</td>\n",
       "      <td>0.007716</td>\n",
       "      <td>0.039959</td>\n",
       "      <td>0.000078</td>\n",
       "      <td>20</td>\n",
       "      <td>rbf</td>\n",
       "      <td>{'C': 20, 'kernel': 'rbf'}</td>\n",
       "      <td>0.534722</td>\n",
       "      <td>0.541667</td>\n",
       "      <td>0.564460</td>\n",
       "      <td>0.515679</td>\n",
       "      <td>0.560976</td>\n",
       "      <td>0.543501</td>\n",
       "      <td>0.017884</td>\n",
       "      <td>4</td>\n",
       "    </tr>\n",
       "    <tr>\n",
       "      <th>5</th>\n",
       "      <td>0.015018</td>\n",
       "      <td>0.001967</td>\n",
       "      <td>0.004797</td>\n",
       "      <td>0.003917</td>\n",
       "      <td>20</td>\n",
       "      <td>linear</td>\n",
       "      <td>{'C': 20, 'kernel': 'linear'}</td>\n",
       "      <td>0.979167</td>\n",
       "      <td>0.982639</td>\n",
       "      <td>0.975610</td>\n",
       "      <td>0.996516</td>\n",
       "      <td>0.979094</td>\n",
       "      <td>0.982605</td>\n",
       "      <td>0.007302</td>\n",
       "      <td>1</td>\n",
       "    </tr>\n",
       "  </tbody>\n",
       "</table>\n",
       "</div>"
      ],
      "text/plain": [
       "   mean_fit_time  std_fit_time  mean_score_time  std_score_time param_C  \\\n",
       "0       0.120617      0.006187         0.037851        0.005730       1   \n",
       "1       0.017604      0.003221         0.006406        0.003203       1   \n",
       "2       0.127151      0.001630         0.036778        0.003917      10   \n",
       "3       0.015958      0.000028         0.004823        0.003938      10   \n",
       "4       0.131003      0.007716         0.039959        0.000078      20   \n",
       "5       0.015018      0.001967         0.004797        0.003917      20   \n",
       "\n",
       "  param_kernel                         params  split0_test_score  \\\n",
       "0          rbf      {'C': 1, 'kernel': 'rbf'}           0.475694   \n",
       "1       linear   {'C': 1, 'kernel': 'linear'}           0.979167   \n",
       "2          rbf     {'C': 10, 'kernel': 'rbf'}           0.534722   \n",
       "3       linear  {'C': 10, 'kernel': 'linear'}           0.979167   \n",
       "4          rbf     {'C': 20, 'kernel': 'rbf'}           0.534722   \n",
       "5       linear  {'C': 20, 'kernel': 'linear'}           0.979167   \n",
       "\n",
       "   split1_test_score  split2_test_score  split3_test_score  split4_test_score  \\\n",
       "0           0.503472           0.522648           0.484321           0.498258   \n",
       "1           0.982639           0.975610           0.996516           0.979094   \n",
       "2           0.541667           0.564460           0.515679           0.560976   \n",
       "3           0.982639           0.975610           0.996516           0.979094   \n",
       "4           0.541667           0.564460           0.515679           0.560976   \n",
       "5           0.982639           0.975610           0.996516           0.979094   \n",
       "\n",
       "   mean_test_score  std_test_score  rank_test_score  \n",
       "0         0.496879        0.016223                6  \n",
       "1         0.982605        0.007302                1  \n",
       "2         0.543501        0.017884                4  \n",
       "3         0.982605        0.007302                1  \n",
       "4         0.543501        0.017884                4  \n",
       "5         0.982605        0.007302                1  "
      ]
     },
     "execution_count": 14,
     "metadata": {},
     "output_type": "execute_result"
    }
   ],
   "source": [
    "cv_res = pd.DataFrame(clf.cv_results_)\n",
    "cv_res"
   ]
  },
  {
   "cell_type": "code",
   "execution_count": 16,
   "metadata": {},
   "outputs": [
    {
     "data": {
      "text/html": [
       "<div>\n",
       "<style scoped>\n",
       "    .dataframe tbody tr th:only-of-type {\n",
       "        vertical-align: middle;\n",
       "    }\n",
       "\n",
       "    .dataframe tbody tr th {\n",
       "        vertical-align: top;\n",
       "    }\n",
       "\n",
       "    .dataframe thead th {\n",
       "        text-align: right;\n",
       "    }\n",
       "</style>\n",
       "<table border=\"1\" class=\"dataframe\">\n",
       "  <thead>\n",
       "    <tr style=\"text-align: right;\">\n",
       "      <th></th>\n",
       "      <th>param_C</th>\n",
       "      <th>param_kernel</th>\n",
       "      <th>mean_test_score</th>\n",
       "    </tr>\n",
       "  </thead>\n",
       "  <tbody>\n",
       "    <tr>\n",
       "      <th>0</th>\n",
       "      <td>1</td>\n",
       "      <td>rbf</td>\n",
       "      <td>0.496879</td>\n",
       "    </tr>\n",
       "    <tr>\n",
       "      <th>1</th>\n",
       "      <td>1</td>\n",
       "      <td>linear</td>\n",
       "      <td>0.982605</td>\n",
       "    </tr>\n",
       "    <tr>\n",
       "      <th>2</th>\n",
       "      <td>10</td>\n",
       "      <td>rbf</td>\n",
       "      <td>0.543501</td>\n",
       "    </tr>\n",
       "    <tr>\n",
       "      <th>3</th>\n",
       "      <td>10</td>\n",
       "      <td>linear</td>\n",
       "      <td>0.982605</td>\n",
       "    </tr>\n",
       "    <tr>\n",
       "      <th>4</th>\n",
       "      <td>20</td>\n",
       "      <td>rbf</td>\n",
       "      <td>0.543501</td>\n",
       "    </tr>\n",
       "    <tr>\n",
       "      <th>5</th>\n",
       "      <td>20</td>\n",
       "      <td>linear</td>\n",
       "      <td>0.982605</td>\n",
       "    </tr>\n",
       "  </tbody>\n",
       "</table>\n",
       "</div>"
      ],
      "text/plain": [
       "  param_C param_kernel  mean_test_score\n",
       "0       1          rbf         0.496879\n",
       "1       1       linear         0.982605\n",
       "2      10          rbf         0.543501\n",
       "3      10       linear         0.982605\n",
       "4      20          rbf         0.543501\n",
       "5      20       linear         0.982605"
      ]
     },
     "execution_count": 16,
     "metadata": {},
     "output_type": "execute_result"
    }
   ],
   "source": [
    "cv_res[['param_C','param_kernel','mean_test_score']]"
   ]
  },
  {
   "cell_type": "code",
   "execution_count": 17,
   "metadata": {},
   "outputs": [
    {
     "data": {
      "text/plain": [
       "0.9826050135501354"
      ]
     },
     "execution_count": 17,
     "metadata": {},
     "output_type": "execute_result"
    }
   ],
   "source": [
    "clf.best_score_"
   ]
  },
  {
   "cell_type": "code",
   "execution_count": 18,
   "metadata": {},
   "outputs": [
    {
     "data": {
      "text/plain": [
       "{'C': 1, 'kernel': 'linear'}"
      ]
     },
     "execution_count": 18,
     "metadata": {},
     "output_type": "execute_result"
    }
   ],
   "source": [
    "clf.best_params_"
   ]
  },
  {
   "cell_type": "code",
   "execution_count": 22,
   "metadata": {},
   "outputs": [
    {
     "data": {
      "text/html": [
       "<div>\n",
       "<style scoped>\n",
       "    .dataframe tbody tr th:only-of-type {\n",
       "        vertical-align: middle;\n",
       "    }\n",
       "\n",
       "    .dataframe tbody tr th {\n",
       "        vertical-align: top;\n",
       "    }\n",
       "\n",
       "    .dataframe thead th {\n",
       "        text-align: right;\n",
       "    }\n",
       "</style>\n",
       "<table border=\"1\" class=\"dataframe\">\n",
       "  <thead>\n",
       "    <tr style=\"text-align: right;\">\n",
       "      <th></th>\n",
       "      <th>param_C</th>\n",
       "      <th>param_kernel</th>\n",
       "      <th>mean_test_score</th>\n",
       "    </tr>\n",
       "  </thead>\n",
       "  <tbody>\n",
       "    <tr>\n",
       "      <th>0</th>\n",
       "      <td>20</td>\n",
       "      <td>rbf</td>\n",
       "      <td>0.543501</td>\n",
       "    </tr>\n",
       "    <tr>\n",
       "      <th>1</th>\n",
       "      <td>20</td>\n",
       "      <td>linear</td>\n",
       "      <td>0.982605</td>\n",
       "    </tr>\n",
       "  </tbody>\n",
       "</table>\n",
       "</div>"
      ],
      "text/plain": [
       "  param_C param_kernel  mean_test_score\n",
       "0      20          rbf         0.543501\n",
       "1      20       linear         0.982605"
      ]
     },
     "execution_count": 22,
     "metadata": {},
     "output_type": "execute_result"
    }
   ],
   "source": [
    "from sklearn.model_selection import RandomizedSearchCV\n",
    "\n",
    "clf = RandomizedSearchCV(SVC(gamma='auto'),{\n",
    "    'C' : [1,10,20],\n",
    "    'kernel': ['rbf','linear']\n",
    "},cv=5,return_train_score= False,n_iter = 2)\n",
    "\n",
    "clf.fit(x_train,y_train)\n",
    "df= pd.DataFrame(clf.cv_results_)\n",
    "df[['param_C','param_kernel','mean_test_score']]"
   ]
  },
  {
   "cell_type": "code",
   "execution_count": null,
   "metadata": {},
   "outputs": [],
   "source": []
  },
  {
   "cell_type": "code",
   "execution_count": null,
   "metadata": {},
   "outputs": [],
   "source": []
  }
 ],
 "metadata": {
  "kernelspec": {
   "display_name": "Python 3.9.13 ('base')",
   "language": "python",
   "name": "python3"
  },
  "language_info": {
   "codemirror_mode": {
    "name": "ipython",
    "version": 3
   },
   "file_extension": ".py",
   "mimetype": "text/x-python",
   "name": "python",
   "nbconvert_exporter": "python",
   "pygments_lexer": "ipython3",
   "version": "3.9.13"
  },
  "orig_nbformat": 4,
  "vscode": {
   "interpreter": {
    "hash": "f478284d55899b5d2ec1f26c110f4cbc25bc2ed2a73b486db755b0c265d0e676"
   }
  }
 },
 "nbformat": 4,
 "nbformat_minor": 2
}
